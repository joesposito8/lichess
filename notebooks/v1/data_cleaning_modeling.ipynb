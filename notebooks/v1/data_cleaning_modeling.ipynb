{
 "cells": [
  {
   "cell_type": "markdown",
   "metadata": {},
   "source": [
    "# Imports"
   ]
  },
  {
   "cell_type": "code",
   "execution_count": 1,
   "metadata": {},
   "outputs": [],
   "source": [
    "import pandas as pd\n",
    "import random\n",
    "import math\n",
    "import sklearn"
   ]
  },
  {
   "cell_type": "markdown",
   "metadata": {},
   "source": [
    "# Initial Loading of Data"
   ]
  },
  {
   "cell_type": "code",
   "execution_count": 2,
   "metadata": {},
   "outputs": [],
   "source": [
    "raw_df = pd.read_csv(r'C:\\Users\\joesp\\Documents\\Projects\\lichess\\data\\mass_evaled_games_rh.csv')\n",
    "raw_df = raw_df[raw_df['Winner'] != .5]\n",
    "raw_df = raw_df.dropna().reset_index(drop=True)"
   ]
  },
  {
   "cell_type": "markdown",
   "metadata": {},
   "source": [
    "### Verify that Clock Times and Evals Match"
   ]
  },
  {
   "cell_type": "code",
   "execution_count": 3,
   "metadata": {},
   "outputs": [],
   "source": [
    "for i in range(len(raw_df)):\n",
    "    raw_df.at[i, 'Clocks'] = eval(raw_df.at[i, 'Clocks'])\n",
    "    raw_df.at[i, 'Evals'] = eval(raw_df.at[i, 'Evals'])\n",
    "    \n",
    "raw_df = raw_df[raw_df['Clocks'].str.len() == raw_df['Evals'].str.len()].reset_index(drop=True)"
   ]
  },
  {
   "cell_type": "markdown",
   "metadata": {},
   "source": [
    "### Split Into Test and Train Data Set"
   ]
  },
  {
   "cell_type": "code",
   "execution_count": 4,
   "metadata": {},
   "outputs": [],
   "source": [
    "from sklearn.model_selection import train_test_split\n",
    "\n",
    "def create_test_train(df):\n",
    "    train, test = train_test_split(df, test_size=.2)\n",
    "\n",
    "    train.reset_index(inplace=True, drop=True)\n",
    "    test.reset_index(inplace=True, drop=True)\n",
    "    \n",
    "    return train, test"
   ]
  },
  {
   "cell_type": "code",
   "execution_count": 5,
   "metadata": {},
   "outputs": [],
   "source": [
    "train_df, test_df = create_test_train(raw_df)\n",
    "datasets = [train_df, test_df]"
   ]
  },
  {
   "cell_type": "markdown",
   "metadata": {},
   "source": [
    "### Expand Data on Clock and Eval"
   ]
  },
  {
   "cell_type": "code",
   "execution_count": 6,
   "metadata": {},
   "outputs": [],
   "source": [
    "num_rows_per_game = 5\n",
    "\n",
    "def expand_games_clock_evals(df, num_rows_per_game):\n",
    "    columns = df.columns.append(pd.Index(['White_Clock', 'Black_Clock', 'Eval'])).drop(pd.Index(['Clocks', 'Evals']))\n",
    "    ret_df = []\n",
    "    \n",
    "    for i in range(len(df)):\n",
    "        clocks = df.at[i, 'Clocks']\n",
    "        evals = df.at[i, 'Evals']\n",
    "        \n",
    "        white_clocks = [clocks[k] for k in range(len(clocks)) if k%2 == 0]\n",
    "        black_clocks = [clocks[k] for k in range(len(clocks)) if k%2 == 1]\n",
    "        \n",
    "        num_clocks = len(black_clocks)\n",
    "        num_rows = min(num_rows_per_game, num_clocks)\n",
    "        \n",
    "        indexes = random.choices([k for k in range(len(evals))], k=num_rows)\n",
    "        \n",
    "        for index in indexes:\n",
    "            if index == len(evals)-1:\n",
    "                ret_df.append(list(df.iloc[i])[:-2] + [white_clocks[-1]] + [black_clocks[-1]] + [evals[index]])\n",
    "            else:\n",
    "                ret_df.append(list(df.iloc[i])[:-2] + [white_clocks[math.ceil(index/2)]] + [black_clocks[math.floor(index/2)]] + [evals[index]])\n",
    "    \n",
    "    ret_df = pd.DataFrame(ret_df, columns=list(columns))\n",
    "    \n",
    "    ret_df['Is_Mate'] = False\n",
    "    ret_df.loc[ret_df['Eval'].str.contains('#'), 'Is_Mate'] = True\n",
    "    ret_df['Eval'] = ret_df['Eval'].str.replace('#', '')\n",
    "\n",
    "    return ret_df\n",
    "\n",
    "def shuffle(df):\n",
    "    return df.sample(frac=1).reset_index(drop=True)\n",
    "\n",
    "train_df = expand_games_clock_evals(train_df, num_rows_per_game)\n",
    "train_df = shuffle(train_df)\n",
    "test_df = expand_games_clock_evals(test_df, num_rows_per_game)\n",
    "test_df = shuffle(test_df)"
   ]
  },
  {
   "cell_type": "markdown",
   "metadata": {},
   "source": [
    "### One-Hot Encoding of Perf"
   ]
  },
  {
   "cell_type": "code",
   "execution_count": 7,
   "metadata": {},
   "outputs": [],
   "source": [
    "from sklearn.preprocessing import OneHotEncoder\n",
    "\n",
    "encoder = OneHotEncoder(handle_unknown='ignore')\n",
    "encoder.fit(train_df[['Perf']])\n",
    "\n",
    "new_columns = [f'Perf_{category}' for category in encoder.categories_[0]]\n",
    "for column in new_columns:\n",
    "    train_df[column] = 0\n",
    "    test_df[column] = 0\n",
    "\n",
    "train_df[new_columns] = encoder.transform(train_df[['Perf']]).toarray()\n",
    "test_df[new_columns] = encoder.transform(test_df[['Perf']]).toarray()\n",
    "\n",
    "train_df.drop(columns=['Perf'], inplace=True)\n",
    "test_df.drop(columns=['Perf'], inplace=True)\n",
    "\n",
    "train_df = train_df.astype({\"Winner\": int, \"Eval\":float})\n",
    "test_df = test_df.astype({\"Winner\": int, \"Eval\":float})"
   ]
  },
  {
   "cell_type": "markdown",
   "metadata": {},
   "source": [
    "### Final Cleaning"
   ]
  },
  {
   "cell_type": "code",
   "execution_count": 8,
   "metadata": {},
   "outputs": [],
   "source": [
    "train_df.drop(columns=['White_Username', 'Black_Username'], inplace=True)\n",
    "test_df.drop(columns=['White_Username', 'Black_Username'], inplace=True)"
   ]
  },
  {
   "cell_type": "code",
   "execution_count": 9,
   "metadata": {},
   "outputs": [],
   "source": [
    "def create_labels_data(df, label_column):\n",
    "    data = df[[column for column in df if column != label_column]]    \n",
    "    labels = df[label_column]\n",
    "    \n",
    "    return data, labels"
   ]
  },
  {
   "cell_type": "code",
   "execution_count": 10,
   "metadata": {},
   "outputs": [],
   "source": [
    "X_train, y_train = create_labels_data(train_df, 'Winner')\n",
    "X_test, y_test = create_labels_data(test_df, 'Winner')"
   ]
  },
  {
   "cell_type": "markdown",
   "metadata": {},
   "source": [
    "### Rearrange Columns for Understandability"
   ]
  },
  {
   "cell_type": "code",
   "execution_count": 11,
   "metadata": {},
   "outputs": [],
   "source": [
    "column_order = ['Perf_Blitz', 'Perf_Bullet', 'Perf_Classical', 'Perf_Rapid', \n",
    "        'Perf_UltraBullet', 'White_Rating', 'White_UltraBullet_Rating', \n",
    "        'White_Bullet_Rating', 'White_Blitz_Rating', 'White_Rapid_Rating',\n",
    "       'White_Classical_Rating', 'White_Correspondence_Rating', 'Black_Rating',\n",
    "        'Black_UltraBullet_Rating', 'Black_Bullet_Rating', 'Black_Blitz_Rating',\n",
    "       'Black_Rapid_Rating', 'Black_Classical_Rating', 'Black_Correspondence_Rating',\n",
    "       'Clock_Initial', 'Clock_Increment', 'White_Clock', 'Black_Clock', 'Eval', 'Is_Mate']\n",
    "\n",
    "X_train = X_train[column_order]\n",
    "X_test = X_test[column_order]"
   ]
  },
  {
   "cell_type": "markdown",
   "metadata": {},
   "source": [
    "# Initial Modeling of Data"
   ]
  },
  {
   "cell_type": "markdown",
   "metadata": {},
   "source": [
    "### Create Baseline Models"
   ]
  },
  {
   "cell_type": "code",
   "execution_count": 12,
   "metadata": {},
   "outputs": [],
   "source": [
    "prob_baseline_raw = pd.read_csv(r'C:\\Users\\joesp\\Documents\\Projects\\lichess\\data\\baseline-june.csv')\n",
    "\n",
    "def columns_group(df, game_speed, round_num, number):\n",
    "    ret = [game_speed, number]\n",
    "    rows = df.loc[(round_to(df['Rating Difference'], round_num) == number) & (df[\"Game Speed\"] == game_speed)]\n",
    "    ret += [rows['Total Points'].sum(), rows['Total Games'].sum(), rows['Total Draws'].sum()]\n",
    "    return ret\n",
    "\n",
    "def round_to(x, to):\n",
    "    return to * round(x/to)\n",
    "\n",
    "prob_baseline = pd.DataFrame(columns=prob_baseline_raw.columns)\n",
    "\n",
    "for gs in prob_baseline_raw['Game Speed'].unique():\n",
    "    maximum = round_to(max(prob_baseline_raw[prob_baseline_raw['Game Speed'] == gs]['Rating Difference']), 100)\n",
    "    minimum = round_to(min(prob_baseline_raw[prob_baseline_raw['Game Speed'] == gs]['Rating Difference']), 100)\n",
    "    for num in range(minimum, maximum, 50):\n",
    "        prob_baseline.loc[len(prob_baseline)] = columns_group(prob_baseline_raw, gs, 50, num)\n",
    "        \n",
    "prob_baseline = prob_baseline[prob_baseline['Total Games'] != 0]\n",
    "prob_baseline['Winning_Percentage'] = prob_baseline['Total Points']/prob_baseline['Total Games']\n",
    "prob_baseline = prob_baseline.drop(columns=['Total Points', 'Total Games', 'Total Draws'])"
   ]
  },
  {
   "cell_type": "code",
   "execution_count": 13,
   "metadata": {},
   "outputs": [],
   "source": [
    "def baseline_rating_score(df, label):\n",
    "    right = 0\n",
    "    wrong = 0\n",
    "    for index, row in df.iterrows():\n",
    "        winner = label.iloc[index]\n",
    "        if (row['White_Rating']>row['Black_Rating'] and winner==0) or (row['White_Rating']<row['Black_Rating'] and winner==1):\n",
    "            right += 1\n",
    "        else:\n",
    "            wrong += 1\n",
    "    return (right/(right+wrong))\n",
    "\n",
    "def baseline_eval_score(df, label):\n",
    "    right = 0\n",
    "    wrong = 0\n",
    "    for index, row in df.iterrows():\n",
    "        winner = label.iloc[index]\n",
    "        if (row['Eval']>0 and winner==0) or (row['Eval']<0 and winner==1):\n",
    "            right += 1\n",
    "        else:\n",
    "            wrong += 1\n",
    "    return (right/(right+wrong))"
   ]
  },
  {
   "cell_type": "markdown",
   "metadata": {},
   "source": [
    "### First Modeling"
   ]
  },
  {
   "cell_type": "code",
   "execution_count": 14,
   "metadata": {},
   "outputs": [],
   "source": [
    "from sklearn.ensemble import RandomForestClassifier\n",
    "from sklearn.metrics import mean_squared_error"
   ]
  },
  {
   "cell_type": "code",
   "execution_count": 15,
   "metadata": {},
   "outputs": [],
   "source": [
    "def rmse_rf(rf, data, labels):\n",
    "    y_hat = rf.predict_proba(data)\n",
    "    y_hat = [prob[1] for prob in y_hat]\n",
    "    return math.sqrt(mean_squared_error(y_hat, labels))\n",
    "\n",
    "def rmse_baseline(data, labels, prob_baseline):\n",
    "    y_hat = []\n",
    "    \n",
    "    for index, row in data.iterrows():\n",
    "        y_hat.append(1-float(prob_baseline[(prob_baseline['Game Speed'] == 'Bullet') & (prob_baseline['Rating Difference'] == round_to(row['White_Rating']-row['Black_Rating'], 50))]['Winning_Percentage']))\n",
    "    \n",
    "    return math.sqrt(mean_squared_error(y_hat, labels))"
   ]
  },
  {
   "cell_type": "code",
   "execution_count": 19,
   "metadata": {},
   "outputs": [
    {
     "name": "stdout",
     "output_type": "stream",
     "text": [
      "Wall time: 24.4 s\n"
     ]
    },
    {
     "data": {
      "text/plain": [
       "RandomForestClassifier(max_features='log2', min_samples_leaf=5,\n",
       "                       n_estimators=500, n_jobs=1)"
      ]
     },
     "execution_count": 19,
     "metadata": {},
     "output_type": "execute_result"
    }
   ],
   "source": [
    "rf = RandomForestClassifier(n_estimators=500, max_features=\"log2\", min_samples_leaf=5, n_jobs=1)\n",
    "%time rf.fit(X_train, y_train)"
   ]
  },
  {
   "cell_type": "markdown",
   "metadata": {},
   "source": [
    "### Comparison to Baseline"
   ]
  },
  {
   "cell_type": "code",
   "execution_count": 20,
   "metadata": {},
   "outputs": [
    {
     "name": "stdout",
     "output_type": "stream",
     "text": [
      "Accuracy Scores\n",
      "Random Forest Accuracy: 0.7242023928215354\n",
      "Baseline Rating: 0.55259222333001\n",
      "Baseline Eval: 0.638085742771685\n",
      "\n",
      "Loss Scores\n",
      "Random Forest RMSE: 0.4290871588832472\n",
      "Baseline RMSE: 0.4937820615143324\n"
     ]
    }
   ],
   "source": [
    "print(f\"Accuracy Scores\")\n",
    "print(f\"Random Forest Accuracy: {rf.score(X_test, y_test)}\")\n",
    "print(f\"Baseline Rating: {baseline_rating_score(X_test, y_test)}\")\n",
    "print(f\"Baseline Eval: {baseline_eval_score(X_test, y_test)}\")\n",
    "\n",
    "print(f\"\\nLoss Scores\")\n",
    "print(f\"Random Forest RMSE: {rmse_rf(rf, X_test, y_test)}\")\n",
    "print(f\"Baseline RMSE: {rmse_baseline(X_test, y_test, prob_baseline)}\")"
   ]
  },
  {
   "cell_type": "markdown",
   "metadata": {},
   "source": [
    "### Save Model"
   ]
  },
  {
   "cell_type": "code",
   "execution_count": 21,
   "metadata": {},
   "outputs": [
    {
     "data": {
      "text/plain": [
       "['C:\\\\Users\\\\joesp\\\\Documents\\\\Projects\\\\lichess\\\\models\\\\rf.joblib']"
      ]
     },
     "execution_count": 21,
     "metadata": {},
     "output_type": "execute_result"
    }
   ],
   "source": [
    "from joblib import dump, load\n",
    "dump(rf, r'C:\\Users\\joesp\\Documents\\Projects\\lichess\\models\\rf.joblib') "
   ]
  },
  {
   "cell_type": "code",
   "execution_count": null,
   "metadata": {},
   "outputs": [],
   "source": []
  }
 ],
 "metadata": {
  "kernelspec": {
   "display_name": "Python 3",
   "language": "python",
   "name": "python3"
  },
  "language_info": {
   "codemirror_mode": {
    "name": "ipython",
    "version": 3
   },
   "file_extension": ".py",
   "mimetype": "text/x-python",
   "name": "python",
   "nbconvert_exporter": "python",
   "pygments_lexer": "ipython3",
   "version": "3.8.3"
  }
 },
 "nbformat": 4,
 "nbformat_minor": 4
}
