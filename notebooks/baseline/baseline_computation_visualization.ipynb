{
 "cells": [
  {
   "cell_type": "code",
   "execution_count": null,
   "metadata": {},
   "outputs": [],
   "source": [
    "import pandas as pd\n",
    "import seaborn as sns\n",
    "import matplotlib.pyplot as plt\n",
    "from decimal import Decimal, ROUND_HALF_UP\n",
    "\n",
    "from .utils import baseline_utils\n",
    "\n",
    "GRANULARITY = 100\n",
    "BOUNDARIES = (-1000, 1000)\n",
    "DRAWS = False"
   ]
  },
  {
   "cell_type": "code",
   "execution_count": null,
   "metadata": {},
   "outputs": [],
   "source": [
    "baseline = pd.read_csv(r'..\\..\\data\\baseline-june.csv')\n",
    "\n",
    "if not DRAWS:\n",
    "    baseline['Total Points'] -= .5*baseline['Total Draws']\n",
    "    baseline['Total Games'] -= baseline['Total Draws']\n",
    "\n",
    "df = pd.DataFrame(columns=baseline.columns)\n",
    "\n",
    "for gs in baseline['Game Speed'].unique():\n",
    "    df.loc[len(df)] = columns_group_tail(baseline, gs, BOUNDARIES[0], upper_or_lower='lower')\n",
    "    for num in range(BOUNDARIES[0], BOUNDARIES[1]+1, GRANULARITY):\n",
    "        df.loc[len(df)] = columns_group(baseline, gs, GRANULARITY, num)\n",
    "    df.loc[len(df)] = columns_group_tail(baseline, gs, BOUNDARIES[1], upper_or_lower='upper')\n",
    "\n",
    "df['Game Speed'] = pd.Categorical(df['Game Speed'], [\"Bullet\", \"Blitz\", \"Rapid\", \"Classical\"])\n",
    "df.sort_values(by=['Game Speed', 'Rating Difference'], inplace=True)\n",
    "        \n",
    "interval = con_interval(df['Total Points'], df['Total Games'])\n",
    "df['White Win Probability'] = interval[0]\n",
    "df['Lower White Win Probability'] = interval[1]\n",
    "df['Upper White Win Probability'] = interval[2]\n",
    "\n",
    "interval = con_interval(df['Total Draws'], df['Total Games'])\n",
    "df['Draw Probability'] = interval[0]\n",
    "df['Lower Draw Probability'] = interval[1]\n",
    "df['Upper Draw Probability'] = interval[2]\n",
    "\n",
    "float_columns = [column for column in df.columns if column not in ['Game Speed', 'Rating Difference', 'Total Games', 'Total Draws']]\n",
    "int_columns = ['Total Games', 'Total Draws']\n",
    "df[float_columns] = df[float_columns].astype(float)\n",
    "df[int_columns] = df[int_columns].astype(int)\n",
    "\n",
    "clip_columns = ['Lower White Win Probability', 'Upper White Win Probability', 'Lower Draw Probability', 'Upper Draw Probability']\n",
    "df[clip_columns] = df[clip_columns].clip(0, 1)"
   ]
  },
  {
   "cell_type": "code",
   "execution_count": null,
   "metadata": {},
   "outputs": [],
   "source": [
    "for attribute in df.columns[5:]:\n",
    "    file_name = \"\".join([word[0].lower() for word in attribute.split(\" \")]) + \"_\" + str(BOUNDARIES[1]) + \"_\" + str(GRANULARITY)\n",
    "    create_heatmap(create_pivot(df, 'Rating Difference', 'Game Speed', attribute, BOUNDARIES), 'Rating Difference', 'Game Speed', attribute, GRANULARITY)\n",
    "    plt.savefig(r\"..\\..\\results/\" + file_name, facecolor='w', bbox_inches=\"tight\")\n",
    "    plt.show()"
   ]
  },
  {
   "cell_type": "code",
   "execution_count": null,
   "metadata": {},
   "outputs": [],
   "source": []
  }
 ],
 "metadata": {
  "kernelspec": {
   "display_name": "Python 3",
   "language": "python",
   "name": "python3"
  },
  "language_info": {
   "codemirror_mode": {
    "name": "ipython",
    "version": 3
   },
   "file_extension": ".py",
   "mimetype": "text/x-python",
   "name": "python",
   "nbconvert_exporter": "python",
   "pygments_lexer": "ipython3",
   "version": "3.8.3"
  }
 },
 "nbformat": 4,
 "nbformat_minor": 4
}
