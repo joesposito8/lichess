{
 "cells": [
  {
   "cell_type": "code",
   "execution_count": null,
   "metadata": {},
   "outputs": [],
   "source": [
    "import re\n",
    "import math\n",
    "import sys\n",
    "import csv\n",
    "import numpy as np\n",
    "import pandas as pd\n",
    "import seaborn as sns\n",
    "import matplotlib.pyplot as plt\n",
    "from decimal import Decimal, ROUND_HALF_UP"
   ]
  },
  {
   "cell_type": "code",
   "execution_count": null,
   "metadata": {},
   "outputs": [],
   "source": [
    "def parse_line(string):\n",
    "    attribute = re.findall('(?<=\\[)[A-z0-9]+', string)[0]\n",
    "    text = re.findall('(?<=\\\").+(?=\\\")', string)[0]\n",
    "    return attribute, text\n",
    "\n",
    "def add_dic(complete, current):\n",
    "    current['Rating Difference'] = current['White']-current['Black']\n",
    "    if current['Rating Difference'] in complete[current['Game Speed']]:\n",
    "        if current['Winner'] == .5:\n",
    "            complete[current['Game Speed']][current['Rating Difference']] = [sum(x) for x in zip(complete[current['Game Speed']][current['Rating Difference']], [current['Winner'], 1, 1])]\n",
    "        else:\n",
    "            complete[current['Game Speed']][current['Rating Difference']] = [sum(x) for x in zip(complete[current['Game Speed']][current['Rating Difference']], [current['Winner'], 1, 0])]\n",
    "    else:\n",
    "        if current['Winner'] == .5:\n",
    "            complete[current['Game Speed']][current['Rating Difference']] = [current['Winner'], 1, 1]\n",
    "        else:\n",
    "            complete[current['Game Speed']][current['Rating Difference']] = [current['Winner'], 1, 0]"
   ]
  },
  {
   "cell_type": "code",
   "execution_count": null,
   "metadata": {},
   "outputs": [],
   "source": [
    "complete = {'Bullet':{}, 'Blitz':{}, 'Rapid':{}, 'Classical':{}}\n",
    "total = 0\n",
    "terminations = []\n",
    "\n",
    "with open(r\"..\\..\\data\\lichess-june.pgn\") as f:\n",
    "    nextLine = f.readline()\n",
    "    current = {}\n",
    "    while nextLine != '':\n",
    "        if nextLine.startswith(\"[\"):\n",
    "            print(text)\n",
    "            attribute, text = parse_line(nextLine)\n",
    "            \n",
    "            if attribute == 'WhiteElo':\n",
    "                current['White'] = int(text)\n",
    "            \n",
    "            if attribute == 'BlackElo':\n",
    "                current['Black'] = int(text)\n",
    "            \n",
    "            if attribute == 'Event':\n",
    "                try:\n",
    "                    current['Game Speed'] = next(perf for perf in ['Rapid', 'Bullet', 'Blitz', 'Classical'] if perf in text)\n",
    "                except:\n",
    "                    pass\n",
    "            \n",
    "            if attribute == 'Result':\n",
    "                try:\n",
    "                    winner = eval(re.findall(\"[0-9/]+(?=-)\", text)[0])\n",
    "                    current['Winner'] = winner\n",
    "                except:\n",
    "                    pass\n",
    "                \n",
    "            if attribute == 'Termination':\n",
    "                if text not in terminations:\n",
    "                    terminations.append(text)\n",
    "                if set(['Winner', 'Game Speed', 'White', 'Black']) == set(current.keys()):\n",
    "                    dif = current['White']-current['Black']\n",
    "                    add_dic(complete, current)\n",
    "                    \n",
    "                    total += 1\n",
    "                    if total%100000 == 0:\n",
    "                        print(total)\n",
    "                    current = {}\n",
    "        \n",
    "        nextLine = f.readline()"
   ]
  },
  {
   "cell_type": "code",
   "execution_count": null,
   "metadata": {},
   "outputs": [],
   "source": [
    "results = []\n",
    "\n",
    "for k in complete:\n",
    "    for l in complete[k]:\n",
    "        results.append([k] + [l] + complete[k][l])\n",
    "        \n",
    "results = pd.DataFrame(results, columns=['Game Speed', 'Rating Difference', 'Total Points', 'Total Games', 'Total Draws'])\n",
    "results['Game Speed'] = pd.Categorical(results['Game Speed'], [\"Bullet\", \"Blitz\", \"Rapid\", \"Classical\"])\n",
    "results.sort_values(by=['Game Speed', 'Rating Difference'], inplace=True)\n",
    "\n",
    "results.to_csv(r'..\\..\\data\\baseline-june.csv', index=False)"
   ]
  },
  {
   "cell_type": "code",
   "execution_count": null,
   "metadata": {},
   "outputs": [],
   "source": []
  }
 ],
 "metadata": {
  "kernelspec": {
   "display_name": "Python 3",
   "language": "python",
   "name": "python3"
  },
  "language_info": {
   "codemirror_mode": {
    "name": "ipython",
    "version": 3
   },
   "file_extension": ".py",
   "mimetype": "text/x-python",
   "name": "python",
   "nbconvert_exporter": "python",
   "pygments_lexer": "ipython3",
   "version": "3.8.3"
  }
 },
 "nbformat": 4,
 "nbformat_minor": 4
}
